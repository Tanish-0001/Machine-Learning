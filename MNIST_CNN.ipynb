{
  "cells": [
    {
      "cell_type": "code",
      "execution_count": 1,
      "metadata": {
        "id": "8D-Z6V0J9n8V"
      },
      "outputs": [],
      "source": [
        "import torch\n",
        "import torch.nn as nn\n",
        "import torchvision\n",
        "from torch.utils.data import Dataset, DataLoader\n",
        "from torchvision.transforms import transforms\n",
        "import torch.nn.functional as f"
      ]
    },
    {
      "cell_type": "code",
      "execution_count": 3,
      "metadata": {
        "id": "JgWqdvcM9y8H"
      },
      "outputs": [],
      "source": [
        "# Load MNIST data\n",
        "train_dataset = torchvision.datasets.MNIST(root='./data', train=True, transform=transforms.ToTensor(), download=True)\n",
        "test_dataset = torchvision.datasets.MNIST(root='./data', train=False, transform=transforms.ToTensor())\n",
        "\n",
        "batch_size = 100\n",
        "train_loader = DataLoader(dataset=train_dataset, batch_size=batch_size, shuffle=True)\n",
        "test_loader = DataLoader(dataset=test_dataset, batch_size=batch_size, shuffle=False)"
      ]
    },
    {
      "cell_type": "code",
      "execution_count": 4,
      "metadata": {
        "id": "xRJEgcEw963K"
      },
      "outputs": [],
      "source": [
        "# Hyper parameters\n",
        "learning_rate = 1e-2\n",
        "batch_size = 100\n",
        "num_classes = 10\n",
        "num_epochs = 10"
      ]
    },
    {
      "cell_type": "code",
      "execution_count": 14,
      "metadata": {
        "id": "vyZSiSs0-Bbo"
      },
      "outputs": [],
      "source": [
        "class ConvNet(nn.Module):\n",
        "\n",
        "    def __init__(self):\n",
        "        super(ConvNet, self).__init__()\n",
        "        self.conv1 = nn.Conv2d(in_channels=1, out_channels=6, kernel_size=5)\n",
        "        self.pool = nn.MaxPool2d(kernel_size=2, stride=2)\n",
        "        self.conv2 = nn.Conv2d(in_channels=6, out_channels=16, kernel_size=5)\n",
        "        self.conv3 = nn.Conv2d(in_channels=16, out_channels=30, kernel_size=5)\n",
        "\n",
        "        self.fc1 = nn.Linear(in_features=30 * 8 * 8, out_features=120)\n",
        "        self.fc2 = nn.Linear(120, 84)\n",
        "        self.fc3 = nn.Linear(84, 10)\n",
        "\n",
        "    def forward(self, x):\n",
        "        x = f.relu(self.conv1(x))\n",
        "        x = f.relu(self.conv2(x))\n",
        "        x = self.pool(f.relu(self.conv3(x)))\n",
        "        x = x.view(-1, 30 * 8 * 8)\n",
        "        x = f.relu(self.fc1(x))\n",
        "        x = f.relu(self.fc2(x))\n",
        "        x = self.fc3(x)\n",
        "        return x\n",
        "\n",
        "\n",
        "model = ConvNet()\n",
        "criterion = nn.CrossEntropyLoss()\n",
        "optimizer = torch.optim.SGD(model.parameters(), lr=learning_rate)"
      ]
    },
    {
      "cell_type": "code",
      "execution_count": 15,
      "metadata": {
        "colab": {
          "base_uri": "https://localhost:8080/"
        },
        "id": "xxfCSEsa-me0",
        "outputId": "5dd2f82a-5758-441d-fd83-9a37b5db76e6"
      },
      "outputs": [
        {
          "output_type": "stream",
          "name": "stdout",
          "text": [
            "Epoch [1/10], Step [300/600], Loss: 2.3041\n",
            "Epoch [1/10], Step [600/600], Loss: 1.5860\n",
            "Epoch [2/10], Step [300/600], Loss: 0.3236\n",
            "Epoch [2/10], Step [600/600], Loss: 0.3992\n",
            "Epoch [3/10], Step [300/600], Loss: 0.3521\n",
            "Epoch [3/10], Step [600/600], Loss: 0.2576\n",
            "Epoch [4/10], Step [300/600], Loss: 0.0660\n",
            "Epoch [4/10], Step [600/600], Loss: 0.1685\n",
            "Epoch [5/10], Step [300/600], Loss: 0.1472\n",
            "Epoch [5/10], Step [600/600], Loss: 0.0950\n",
            "Epoch [6/10], Step [300/600], Loss: 0.0949\n",
            "Epoch [6/10], Step [600/600], Loss: 0.1051\n",
            "Epoch [7/10], Step [300/600], Loss: 0.1097\n",
            "Epoch [7/10], Step [600/600], Loss: 0.2178\n",
            "Epoch [8/10], Step [300/600], Loss: 0.1293\n",
            "Epoch [8/10], Step [600/600], Loss: 0.1029\n",
            "Epoch [9/10], Step [300/600], Loss: 0.0204\n",
            "Epoch [9/10], Step [600/600], Loss: 0.0707\n",
            "Epoch [10/10], Step [300/600], Loss: 0.0535\n",
            "Epoch [10/10], Step [600/600], Loss: 0.0264\n",
            "Done\n"
          ]
        }
      ],
      "source": [
        "total_steps = len(train_loader)\n",
        "for epoch in range(num_epochs):\n",
        "    for i, (images, labels) in enumerate(train_loader):\n",
        "\n",
        "        outputs = model(images)\n",
        "        loss = criterion(outputs, labels)\n",
        "\n",
        "        optimizer.zero_grad()\n",
        "        loss.backward()\n",
        "        optimizer.step()\n",
        "\n",
        "        if (i + 1) % 300 == 0:\n",
        "            print(f'Epoch [{epoch + 1}/{num_epochs}], Step [{i + 1}/{total_steps}], Loss: {loss.item():.4f}')\n",
        "print('Done')"
      ]
    },
    {
      "cell_type": "code",
      "execution_count": 16,
      "metadata": {
        "colab": {
          "base_uri": "https://localhost:8080/"
        },
        "id": "ppMM92jn_eHC",
        "outputId": "59ee2f92-5cf3-40df-9448-97c73e2dac95"
      },
      "outputs": [
        {
          "output_type": "stream",
          "name": "stdout",
          "text": [
            "Accuracy: 97.41%\n"
          ]
        }
      ],
      "source": [
        "with torch.no_grad():\n",
        "    correct = 0\n",
        "    total = 0\n",
        "\n",
        "    for images, labels in test_loader:\n",
        "\n",
        "        outputs = model(images)\n",
        "        _, predicted = torch.max(outputs, 1)\n",
        "        total += labels.size(0)\n",
        "        correct += (predicted == labels).sum().item()\n",
        "\n",
        "    acc = correct / total\n",
        "    print(f'Accuracy: {100 * acc:.2f}%')"
      ]
    }
  ],
  "metadata": {
    "colab": {
      "provenance": []
    },
    "kernelspec": {
      "display_name": "Python 3",
      "name": "python3"
    },
    "language_info": {
      "name": "python"
    }
  },
  "nbformat": 4,
  "nbformat_minor": 0
}